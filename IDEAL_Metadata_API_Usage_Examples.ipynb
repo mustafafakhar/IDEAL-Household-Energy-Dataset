{
 "cells": [
  {
   "cell_type": "code",
   "execution_count": 5,
   "metadata": {},
   "outputs": [
    {
     "name": "stdout",
     "output_type": "stream",
     "text": [
      "Populating the interactive namespace from numpy and matplotlib\n"
     ]
    }
   ],
   "source": [
    "%pylab inline"
   ]
  },
  {
   "cell_type": "code",
   "execution_count": 6,
   "metadata": {},
   "outputs": [],
   "source": [
    "import numpy as np\n",
    "import pandas as pd\n",
    "from IdealMetadataInterface import IdealMetadataInterface"
   ]
  },
  {
   "cell_type": "markdown",
   "metadata": {},
   "source": [
    "### Set your own directory where your metadata csv files are       "
   ]
  },
  {
   "cell_type": "code",
   "execution_count": 45,
   "metadata": {},
   "outputs": [],
   "source": [
    "homeid=105\n",
    "metadatadir='../../metadata/'\n",
    "\n",
    "# initialize the metadata interface                                                                                                                                               \n",
    "mdi = IdealMetadataInterface(metadatadir)"
   ]
  },
  {
   "cell_type": "markdown",
   "metadata": {},
   "source": [
    "### Print some information about the home"
   ]
  },
  {
   "cell_type": "code",
   "execution_count": 46,
   "metadata": {},
   "outputs": [
    {
     "name": "stdout",
     "output_type": "stream",
     "text": [
      "Home 105 (1850-1899 flat)\n",
      "    Installed: 25/04/2017 00:00\n",
      "    Residents at install time: 1\n"
     ]
    }
   ],
   "source": [
    "myhome = mdi.metadata.homes['home'][mdi.metadata.homes['home']['homeid']==homeid].iloc[0]\n",
    "myrooms = mdi.metadata.rooms['room'][mdi.metadata.rooms['room']['homeid']==homeid]\n",
    "installtime=pd.to_datetime(myhome.starttime, format='%Y-%m-%d %H:%M:%S', errors='ignore')\n",
    "uninstalltime=pd.to_datetime(myhome.endtime, format='%Y-%m-%d %H:%M:%S', errors='ignore')\n",
    "\n",
    "print(\"Home %i (%s %s)\" % (homeid,myhome.build_era,myhome.hometype))\n",
    "print(\"    Installed: %s\" % installtime)\n",
    "print(\"    Residents at install time: %i\" % myhome.residents)\n"
   ]
  },
  {
   "cell_type": "markdown",
   "metadata": {},
   "source": [
    "### For each room print the sensorboxes"
   ]
  },
  {
   "cell_type": "code",
   "execution_count": 63,
   "metadata": {},
   "outputs": [
    {
     "name": "stdout",
     "output_type": "stream",
     "text": [
      "  Room 1110: kitchen (area 13.5 m2)\n",
      "     clamp sensorbox: CH Return CH Flow\n",
      "     clamp sensorbox: Cold Hot\n",
      "     gas sensorbox\n",
      "     room sensorbox\n",
      "     clamp sensorbox: nan Sink\n",
      "     clamp sensorbox: RadiatorOutput RadiatorInput\n",
      "     room sensorbox\n",
      "     plug_monitor sensorbox for appliance 1648\n",
      "     plug_monitor sensorbox for appliance 1650\n",
      "     clamp sensorbox: nan Oven\n",
      "     plug_monitor sensorbox for appliance 1653\n",
      "     plug_monitor sensorbox for appliance 1652\n",
      "     plug_monitor sensorbox for appliance 1654\n",
      "     plug_monitor sensorbox for appliance 1668\n",
      "  Room 1111: hall (area 8.0 m2)\n",
      "     electric sensorbox\n",
      "     electric sensorbox\n",
      "     room sensorbox\n",
      "     clamp sensorbox: RadiatorInput RadiatorOutput\n",
      "  Room 1112: bathroom (area 6.0 m2)\n",
      "     room sensorbox\n",
      "     clamp sensorbox: nan Bath\n",
      "     clamp sensorbox: Sink nan\n",
      "     clamp sensorbox: RadiatorOutput RadiatorInput\n",
      "  Room 1113: study (area 10.0 m2)\n",
      "     room sensorbox\n",
      "     clamp sensorbox: RadiatorInput RadiatorOutput\n",
      "     plug_monitor sensorbox for appliance 1669\n",
      "  Room 1114: bedroom (area 4.5 m2)\n",
      "     room sensorbox\n",
      "     clamp sensorbox: RadiatorInput RadiatorOutput\n",
      "  Room 1115: bedroom (area 12.5 m2)\n",
      "     room sensorbox\n",
      "     clamp sensorbox: RadiatorInput RadiatorOutput\n",
      "  Room 1116: livingroom (area 16.5 m2)\n",
      "     room sensorbox\n",
      "     clamp sensorbox: RadiatorOutput RadiatorInput\n",
      "  Room 1126: utility (area 5.0 m2)\n",
      "     subcircuit_monitor sensorbox\n"
     ]
    }
   ],
   "source": [
    "for index,room in myrooms.iterrows():\n",
    "    print(\"  Room %i: %s (area %.1f m2)\" % (room.roomid, room.type, room.floorarea / 10))\n",
    "    mysensorboxes = mdi.metadata.sensorboxes['sensorbox'][mdi.metadata.sensorboxes['sensorbox']['roomid']==room.roomid]\n",
    "    for index, box in mysensorboxes.iterrows():\n",
    "        if box.sensorbox_type=='clamp':\n",
    "            print(\"     %s sensorbox: %s %s\" % (box.sensorbox_type, box.clamp1pipe, box.clamp2pipe))\n",
    "        elif box.sensorbox_type=='plug_monitor':\n",
    "            print(\"     %s sensorbox for appliance %s\" % (box.sensorbox_type, box.applianceid))\n",
    "        elif (box.sensorbox_type=='relay'):\n",
    "            relayinstalltime = pd.to_datetime(box['installtime'],unit='s')\n",
    "            print(\"     RELAY sensorbox installed at %s\"+str(relayinstalltime))\n",
    "        else:\n",
    "            print(\"     %s sensorbox\" % (box.sensorbox_type))\n"
   ]
  },
  {
   "cell_type": "code",
   "execution_count": null,
   "metadata": {},
   "outputs": [],
   "source": []
  }
 ],
 "metadata": {
  "kernelspec": {
   "display_name": "Python 3",
   "language": "python",
   "name": "python3"
  },
  "language_info": {
   "codemirror_mode": {
    "name": "ipython",
    "version": 3
   },
   "file_extension": ".py",
   "mimetype": "text/x-python",
   "name": "python",
   "nbconvert_exporter": "python",
   "pygments_lexer": "ipython3",
   "version": "3.8.2"
  }
 },
 "nbformat": 4,
 "nbformat_minor": 2
}
